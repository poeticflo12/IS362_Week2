{
 "cells": [
  {
   "cell_type": "markdown",
   "metadata": {},
   "source": [
    "# <center><font color='blue'>IS 362 Week 2 Assignment 2 2020 Fall</center><font>"
   ]
  },
  {
   "cell_type": "markdown",
   "metadata": {},
   "source": [
    "![My_Text](https://encrypted-tbn0.gstatic.com/images?q=tbn%3AANd9GcSZtgSr9JkT6mwn474na4hRPHouehtMwM94lQ&usqp=CAU) "
   ]
  },
  {
   "cell_type": "markdown",
   "metadata": {},
   "source": [
    "## <center><font color='blue'>This is my first Jupyter Notebook</center><font>\n"
   ]
  },
  {
   "cell_type": "markdown",
   "metadata": {},
   "source": [
    "\n",
    "![My_Text](https://home.cunyfirst.cuny.edu/cs/cnyepprd/cache850/CU_COLLEGE_SPS_BANNER_THIN_1.JPG) "
   ]
  },
  {
   "cell_type": "markdown",
   "metadata": {},
   "source": [
    "### <font color='red'>The below section describes how the zip function works and situations it can be used<br><font>\n",
    "\n",
    "**ZIP() FUNCTION**\n",
    "* Python’s zip() function creates an iterator that will aggregate elements from two or more iterables. You can use the resulting iterator to quickly and consistently solve common programming problems, like creating dictionaries. In this tutorial, you’ll discover the logic behind the Python zip() function and how you can use it to solve real-world problems (pankaj, 2020).\n",
    "* The syntax of zip() is: zip(*iterables)\n",
    "* sources - Pankaj. (2020, July 14). Python zip() function. Retrieved September 06, 2020, from https://www.journaldev.com/15891/python-zip-function\n",
    "* [Python Zip Function](https://www.journaldev.com/15891/python-zip-function)"
   ]
  },
  {
   "cell_type": "markdown",
   "metadata": {},
   "source": [
    "### <font color='red'>Python functions examples from website below<br><font>\n",
    "\n",
    "**ZIP() FUNCTION**\n",
    "* Python Zip Function Example\n",
    "No arguments\n",
    "What happens when we provide no arguments to zip()?\n",
    "\n",
    ">>> set(zip())\n",
    "set()\n",
    "You can see that this returns an empty iterator.\n",
    "\n",
    "Single argument\n",
    ">>> for i in zip([1,2,3]):\n",
    "        print(i)\n",
    "(1,)\n",
    "(2,)\n",
    "(3,)\n",
    "This returns tuples holding single values\n",
    "\n",
    "Multiple arguments of the same lengths\n",
    "So, let’s pass this two lists of equal lengths.\n",
    "Let’s take a tour to Python syntax and semantics\n",
    "\n",
    ">>> for i in zip([1,2,3],['a','b','c']):\n",
    "        print(i)\n",
    "(1, ‘a’)\n",
    "(2, ‘b’)\n",
    "(3, ‘c’)\n",
    "This zips elements together from each list. How about more than two?\n",
    "\n",
    ">>> for i in zip([1,2,3],['a','b','c'],['#','*','$']):\n",
    "        print(i)\n",
    "(1, ‘a’, ‘#’)\n",
    "(2, ‘b’, ‘*’)\n",
    "(3, ‘c’, ‘$’)\n",
    "\n",
    "Multiple arguments of different lengths\n",
    "When we provide multiple lists of different lengths, it stops at the shortest one.\n",
    "\n",
    ">>> set(zip([1,2],[3,4,5]))\n",
    "{(1, 3), (2, 4)}\n",
    "If you want to keep those, you can borrow zip_longest() from itertools.\n",
    "\n",
    ">>> from itertools import zip_longest as zl\n",
    ">>> set(zl([1,2],[3,4,5]))\n",
    "{(1, 3), (2, 4), (None, 5)}\n",
    "Do you know about Python Directory and Files paired together, and then the second item in each passed iterator are paired togeter etc.\n",
    "* Sources - Team, D. (2018, September 28). Python Zip Function With Examples: Python Unzipping values. Retrieved September 06, 2020, from https://data-flair.training/blogs/python-zip-function/\n",
    "* [Python Zip Function](https://data-flair.training/blogs/python-zip-function/)"
   ]
  },
  {
   "cell_type": "code",
   "execution_count": null,
   "metadata": {},
   "outputs": [],
   "source": []
  }
 ],
 "metadata": {
  "kernelspec": {
   "display_name": "Python 3",
   "language": "python",
   "name": "python3"
  },
  "language_info": {
   "codemirror_mode": {
    "name": "ipython",
    "version": 3
   },
   "file_extension": ".py",
   "mimetype": "text/x-python",
   "name": "python",
   "nbconvert_exporter": "python",
   "pygments_lexer": "ipython3",
   "version": "3.8.3"
  }
 },
 "nbformat": 4,
 "nbformat_minor": 4
}
